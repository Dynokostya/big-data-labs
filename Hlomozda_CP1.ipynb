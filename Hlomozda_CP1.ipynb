{
  "cells": [
    {
      "cell_type": "markdown",
      "metadata": {
        "id": "4jLE0nxT_P19"
      },
      "source": [
        "\n",
        "<center><font size=\"6\"><b>Комп'ютерний практикум 1.\n",
        "\n",
        " Основи Python</b></font></center>\n",
        "\n",
        "\n",
        "***"
      ]
    },
    {
      "cell_type": "markdown",
      "metadata": {
        "id": "nb_WlwqB8hrg"
      },
      "source": [
        "> Для запуску коду в Python обираємо комбінацію <kbd>Ctrl</kbd> + <kbd>Enter</kbd> або натискаємо стрілку, що з'являється на квадратних дужках [ ]  \n",
        "\n",
        "> Для виводу результату використовується функція <code>print()</code>, аргумент якої записується в дужках. Якщо аргументів декілька, вони вказуються через кому."
      ]
    },
    {
      "cell_type": "markdown",
      "metadata": {
        "id": "97rJQSzw61Hk"
      },
      "source": [
        "Базові *типи даних* в Python є:\n",
        "\n",
        "\n",
        "| Тип | Приклад | функція в Python |\n",
        "|:-:|:-:|:-:|\n",
        "| Цілі числа (integers) | 1, 10, 42 | `int()`\n",
        "| Дійсні числа (floating-point numbers) | 1.0, 20.65, 12e5 | `float()`\n",
        "|Комплексні числа (complex numbers) | (4+8j) | `complex(re, im)`\n",
        "| Строковий (strings) | “Hello, Python!”, “Data Science” | `str()`\n",
        "| Логічний (Boolean) | True, False | `bool()`\n",
        "\n",
        "> Функція <code>type()</code> виводить тип даних"
      ]
    },
    {
      "cell_type": "markdown",
      "metadata": {
        "id": "Sq8Nkqkk7tdm"
      },
      "source": [
        "### <i> Наприклад </i>"
      ]
    },
    {
      "cell_type": "code",
      "execution_count": 95,
      "metadata": {
        "id": "tgYEg7Pl7g7A"
      },
      "outputs": [
        {
          "name": "stdout",
          "output_type": "stream",
          "text": [
            "2 <class 'int'>\n",
            "42.42 <class 'float'>\n",
            "(1+5j) <class 'complex'>\n",
            "Hello, Python! <class 'str'>\n",
            "True <class 'bool'>\n"
          ]
        }
      ],
      "source": [
        "x = 2\n",
        "print(x, type(x))\n",
        "\n",
        "x = 42.42\n",
        "print(x, type(x))\n",
        "\n",
        "x = complex(1,5)\n",
        "print(x, type(x))\n",
        "\n",
        "x = 'Hello, Python!'\n",
        "print(x, type(x))\n",
        "\n",
        "x = True\n",
        "print(x, type(x))"
      ]
    },
    {
      "cell_type": "markdown",
      "metadata": {
        "id": "MHZ9JQ5w-RKf"
      },
      "source": [
        "> <code>sys</code> це модуль, який містить низку системних параметрів та функцій, включаючи поточну версію Python. Для використання цього модуля, його необхідно імпортувати, що забезпечує команда <code>import</code>."
      ]
    },
    {
      "cell_type": "code",
      "execution_count": 96,
      "metadata": {
        "id": "8r6bYJSB-klj"
      },
      "outputs": [
        {
          "name": "stdout",
          "output_type": "stream",
          "text": [
            "3.12.3 (main, Sep 11 2024, 14:17:37) [GCC 13.2.0]\n"
          ]
        }
      ],
      "source": [
        "# Перевіримо версію Python\n",
        "\n",
        "import sys\n",
        "print(sys.version)"
      ]
    },
    {
      "cell_type": "markdown",
      "metadata": {
        "id": "BU2tJIv8E2f-"
      },
      "source": [
        "### Алгебраїчні операції:\n",
        "\n",
        "| Operation | Note |\n",
        "|:-:|:-:|\n",
        "| x + y | сума  x та y |\n",
        "| x - y | різниця x та y |\n",
        "| x * y | добуток x та y |\n",
        "| x / y | частка x та y |\n",
        "| x // y | ділення без остачі x та y |\n",
        "| x % y | залишок від ділення x / y |\n",
        "| -x | протилежне до x  |\n",
        "| abs(x) | модуль x |\n",
        "| pow(x, y) | x в степені y |\n",
        "| x ** y | x в степені y |"
      ]
    },
    {
      "cell_type": "markdown",
      "metadata": {
        "id": "nDI9VURQGqW8"
      },
      "source": [
        "### <i> Наприклад </i>"
      ]
    },
    {
      "cell_type": "code",
      "execution_count": 97,
      "metadata": {
        "id": "mUzyKlWFGK58"
      },
      "outputs": [
        {
          "data": {
            "text/plain": [
              "-125"
            ]
          },
          "execution_count": 97,
          "metadata": {},
          "output_type": "execute_result"
        }
      ],
      "source": [
        "-5**3"
      ]
    },
    {
      "cell_type": "code",
      "execution_count": 98,
      "metadata": {
        "id": "26FqJETCGVqO"
      },
      "outputs": [
        {
          "name": "stdout",
          "output_type": "stream",
          "text": [
            "залишок від 7 / 3 є 1\n",
            "4 в степені 5 є 1024\n"
          ]
        }
      ],
      "source": [
        "x = 7\n",
        "y = 3\n",
        "print('залишок від {} / {} є {}'.format(x, y, x % y))\n",
        "\n",
        "x = 4\n",
        "y = 5\n",
        "print('{} в степені {} є {}'.format(x, y, pow(x, y)))"
      ]
    },
    {
      "cell_type": "markdown",
      "metadata": {
        "id": "IUwJrZIaG4Qg"
      },
      "source": [
        "### Логічні оператори та оператори порівняння:\n",
        "\n",
        "| Оператори | Пояснення |\n",
        "|:-:|:-:|\n",
        "| x or y | True, якщо хочаб одне значення True |\n",
        "| x and y | False, якщо хочаб одне значення False|\n",
        "| not x | True, якщо х False |\n",
        "|x > y| x більше за у|\n",
        "|x < y| х менше за у |\n",
        "|x >= y|х більше або рівне у|\n",
        "|x <= y|х менше або рівне у|\n",
        "|x == y|х рівне у|\n",
        "|x!= y|х не рівне у|\n",
        "|||\n"
      ]
    },
    {
      "cell_type": "markdown",
      "metadata": {
        "id": "gvkX8BGSdcl4"
      },
      "source": [
        "### <i> Наприклад </i>"
      ]
    },
    {
      "cell_type": "code",
      "execution_count": 99,
      "metadata": {
        "id": "EnZkwpMidS4c"
      },
      "outputs": [
        {
          "name": "stdout",
          "output_type": "stream",
          "text": [
            "True\n"
          ]
        }
      ],
      "source": [
        "x, y = True, False\n",
        "print(not y)"
      ]
    },
    {
      "cell_type": "code",
      "execution_count": 100,
      "metadata": {
        "id": "1oxGe7nXdhH7"
      },
      "outputs": [
        {
          "data": {
            "text/plain": [
              "True"
            ]
          },
          "execution_count": 100,
          "metadata": {},
          "output_type": "execute_result"
        }
      ],
      "source": [
        "8 < 14"
      ]
    },
    {
      "cell_type": "code",
      "execution_count": 101,
      "metadata": {
        "id": "lFIfXzxhdoJ2"
      },
      "outputs": [
        {
          "name": "stderr",
          "output_type": "stream",
          "text": [
            "<>:1: SyntaxWarning: \"is not\" with 'str' literal. Did you mean \"!=\"?\n",
            "<>:1: SyntaxWarning: \"is not\" with 'str' literal. Did you mean \"!=\"?\n",
            "/tmp/ipykernel_14145/1371813681.py:1: SyntaxWarning: \"is not\" with 'str' literal. Did you mean \"!=\"?\n",
            "  'man' is not 'woman'\n"
          ]
        },
        {
          "data": {
            "text/plain": [
              "True"
            ]
          },
          "execution_count": 101,
          "metadata": {},
          "output_type": "execute_result"
        }
      ],
      "source": [
        "'man' is not 'woman'"
      ]
    },
    {
      "cell_type": "code",
      "execution_count": 102,
      "metadata": {
        "id": "qishRTVcdrF0"
      },
      "outputs": [
        {
          "data": {
            "text/plain": [
              "True"
            ]
          },
          "execution_count": 102,
          "metadata": {},
          "output_type": "execute_result"
        }
      ],
      "source": [
        "10 == 10"
      ]
    },
    {
      "cell_type": "markdown",
      "metadata": {
        "id": "FtCgnbuIeHoq"
      },
      "source": [
        "### Рядки (Strings)\n",
        "\n",
        "__Рядки__ - це послідовність символів в Unicode."
      ]
    },
    {
      "cell_type": "code",
      "execution_count": 103,
      "metadata": {
        "id": "JWFqTAV8ef2p"
      },
      "outputs": [
        {
          "name": "stdout",
          "output_type": "stream",
          "text": [
            "Привіт!\n"
          ]
        }
      ],
      "source": [
        "raw_string = \"Привіт!\"\n",
        "print(raw_string)"
      ]
    },
    {
      "cell_type": "code",
      "execution_count": 104,
      "metadata": {
        "id": "lezXGWboegp_"
      },
      "outputs": [
        {
          "name": "stdout",
          "output_type": "stream",
          "text": [
            "Ти можеш додавати рядки!\n",
            "та множити! та множити! та множити! та множити! та множити! та множити! та множити! \n",
            "Довжина рядка 'Рядочок' =  7\n"
          ]
        }
      ],
      "source": [
        "print(\"Ти \" + \"можеш \" + \"додавати \" + \"рядки!\")\n",
        "print(\"та множити! \"*7)\n",
        "print(\"Довжина рядка 'Рядочок' = \" ,len(\"Рядочок\"))"
      ]
    },
    {
      "cell_type": "markdown",
      "metadata": {
        "id": "H_gyEuJterjr"
      },
      "source": [
        "# Python дозволяє викликати частину тексту\n",
        "\n",
        "```python\n",
        "string[start:end:step]\n",
        "```\n",
        "\n",
        "* `start` - індекс, де ти хочеш почати виклик (включно)\n",
        "* `end` - індекс, де ти хочеш закінчити виклик (не включно)\n",
        "* `step` - крок включення (наприклад, кожне друге значення)"
      ]
    },
    {
      "cell_type": "code",
      "execution_count": 105,
      "metadata": {
        "id": "o2LH8mVde8DO"
      },
      "outputs": [
        {
          "name": "stdout",
          "output_type": "stream",
          "text": [
            "Інтелектуальний аналіз \n",
            "Інтеле\n",
            "Ітлкулнйааі кнмчи аи\n",
            "хинад хинчімоноке зілана йиньлауткелетнІ\n"
          ]
        }
      ],
      "source": [
        "my_string = \"Інтелектуальний аналіз економічних даних\"\n",
        "\n",
        "print(my_string[0:23])\n",
        "print(my_string[:6])\n",
        "print(my_string[::2])\n",
        "print(my_string[::-1])"
      ]
    },
    {
      "cell_type": "markdown",
      "metadata": {
        "id": "HnCsHqgyewO0"
      },
      "source": [
        "> Можна перевірити чи входять одні строкові дані в інші оператором `in`."
      ]
    },
    {
      "cell_type": "code",
      "execution_count": 106,
      "metadata": {
        "id": "Q5ghMWqueggC"
      },
      "outputs": [
        {
          "name": "stdout",
          "output_type": "stream",
          "text": [
            "True\n",
            "False\n"
          ]
        }
      ],
      "source": [
        "print('Методи' not in my_string)\n",
        "print('дані' in my_string)"
      ]
    },
    {
      "cell_type": "code",
      "execution_count": 107,
      "metadata": {
        "id": "yoUNxCmffRam"
      },
      "outputs": [],
      "source": [
        "s = 'Великі дані'\n"
      ]
    },
    {
      "cell_type": "markdown",
      "metadata": {
        "id": "viK6NEOtBPGV"
      },
      "source": [
        "### Базові методи роботи з рядками\n",
        "\n",
        "* `s.lower()`  повертає рядок в нижньому регістрі 'великі дані'\n",
        "\n",
        "* `s.upper()` повертає рядок у верхньому регістрі 'ВЕЛИКІ ДАНІ'\n",
        "\n",
        "* `s.startswith('Великі')` повертає True, якщо рядок починається з вказаного фрагменту\n",
        "\n",
        "* `s.endswith('дані')` повертає True, якщо рядок закінчується вказаним фрагментом\n",
        "\n",
        "* `s.isdigit()` повертає True якщо кожна позиція в рядку цифрова (False)\n",
        "\n",
        "* `s.find('дані')` повертає індекс першого входження (7)\n",
        "\n",
        "* `s.find('масив')` повертає -1, якщо не знаходить\n",
        "\n",
        "* `s.replace('Великі','Малі')` заміняє всі входження першого фрагменту на другий ('Великі' на 'малі')\n",
        "* `s.count('s1')` рахує кількість входжень фрагменту `s1` в рядок `s`"
      ]
    },
    {
      "cell_type": "code",
      "execution_count": 108,
      "metadata": {
        "id": "_mEQrp6zfVh-"
      },
      "outputs": [
        {
          "data": {
            "text/plain": [
              "'Малі дані'"
            ]
          },
          "execution_count": 108,
          "metadata": {},
          "output_type": "execute_result"
        }
      ],
      "source": [
        "s.replace('Великі','Малі')"
      ]
    },
    {
      "cell_type": "markdown",
      "metadata": {
        "id": "bAz5ALWHfcBW"
      },
      "source": [
        "#### Форматування рядків"
      ]
    },
    {
      "cell_type": "code",
      "execution_count": 109,
      "metadata": {
        "id": "bCkp0Xajfbo-"
      },
      "outputs": [
        {
          "name": "stdout",
          "output_type": "stream",
          "text": [
            "Привіт, Моє ім'я Марія. Я з університету КПІ.\n",
            "Привіт, Моє ім'я Ганна. Я з університету КНУ.\n",
            "Привіт, Моє ім'я Віктор. Я з університету НаУКМА.\n"
          ]
        }
      ],
      "source": [
        "# Варіант №1\n",
        "my_string = \"Привіт, Моє ім'я {}. Я з університету {}.\".format('Марія', 'КПІ')\n",
        "print(my_string)\n",
        "\n",
        "# Варіант №2\n",
        "my_string = \"Привіт, Моє ім'я {name}. Я з університету {univer}.\".format(univer='КНУ', name='Ганна')\n",
        "print(my_string)\n",
        "\n",
        "# Варіант №3: f-strings (for python >= 3.6)\n",
        "name = 'Віктор'\n",
        "univer = 'НаУКМА'\n",
        "my_string = f\"Привіт, Моє ім'я {name}. Я з університету {univer}.\"\n",
        "print(my_string)"
      ]
    },
    {
      "cell_type": "markdown",
      "metadata": {
        "id": "X83fTbkRf003"
      },
      "source": [
        "### Списки (Lists)\n",
        "\n",
        "__Список__ - це впорядкований набір, який можна змінювати, в ньому можлива наявність повторних значень\n",
        "\n",
        "<img src=\"https://cf-courses-data.s3.us.cloud-object-storage.appdomain.cloud/IBMDeveloperSkillsNetwork-PY0101EN-SkillsNetwork/labs/Module%202/images/ListsIndex.png\" width=\"500\" />\n",
        "\n",
        "> Створюється список переліком елементів в квадратних дужках `[ ]` через кому.\n",
        "\n",
        "> Список може містити елементи різних типів."
      ]
    },
    {
      "cell_type": "code",
      "execution_count": 110,
      "metadata": {
        "id": "f_al0DMqf14M"
      },
      "outputs": [
        {
          "name": "stdout",
          "output_type": "stream",
          "text": [
            "[1, 2, 3, 4, 5, 6, 7] <class 'list'>\n",
            "7\n",
            "[7, 6, 5, 4, 3, 2, 1]\n",
            "[1, 2, 4, 5, 6, 7]\n",
            "[2, 4, 5, 6, 7, 100]\n"
          ]
        }
      ],
      "source": [
        "# lists\n",
        "my_list = [1, 2, 3, 4, 5, 6, 7]\n",
        "print(my_list, type(my_list))\n",
        "\n",
        "# вивести останній елемент списку (перший з кінця)\n",
        "print(my_list[-1])\n",
        "\n",
        "# надрукувати список в зворотньому порядку\n",
        "print(my_list[::-1])\n",
        "\n",
        "# видалення другого з кінця елемента списку\n",
        "del my_list[-5]\n",
        "print(my_list)\n",
        "\n",
        "# заміна першого елементу списку на 100\n",
        "my_list[0] = 100\n",
        "\n",
        "# вивід відсортованого списку\n",
        "print(sorted(my_list))"
      ]
    },
    {
      "cell_type": "code",
      "execution_count": 111,
      "metadata": {
        "id": "LaatSzK0f_49"
      },
      "outputs": [
        {
          "name": "stdout",
          "output_type": "stream",
          "text": [
            "6\n",
            "2\n",
            "100\n",
            "124\n"
          ]
        }
      ],
      "source": [
        "# вивести довжину списку\n",
        "print(len(my_list))\n",
        "\n",
        "# вивести мінімальний елемент списку\n",
        "print(min(my_list))\n",
        "\n",
        "# вивести максимальний елемент списку\n",
        "print(max(my_list))\n",
        "\n",
        "# вивести суму всих елементів списку\n",
        "print(sum(my_list))"
      ]
    },
    {
      "cell_type": "code",
      "execution_count": 112,
      "metadata": {
        "id": "I5WO899kGwII"
      },
      "outputs": [
        {
          "data": {
            "text/plain": [
              "['KPI', 'KNU', 'NAU']"
            ]
          },
          "execution_count": 112,
          "metadata": {},
          "output_type": "execute_result"
        }
      ],
      "source": [
        "# створюємо список\n",
        "universities = ['KPI', 'KNU', 'NAU']\n",
        "universities"
      ]
    },
    {
      "cell_type": "markdown",
      "metadata": {
        "id": "cFtJWJwgq263"
      },
      "source": [
        "###Деякі команди для модифікації списку\n",
        "\n",
        "---\n",
        "\n"
      ]
    },
    {
      "cell_type": "code",
      "execution_count": 113,
      "metadata": {
        "id": "KjBlmk0uga0E"
      },
      "outputs": [
        {
          "name": "stdout",
          "output_type": "stream",
          "text": [
            "['KPI', 'KNU', 'NAU', 'KNUCA']\n",
            "['KPI', 'KNU', 'NAU', 'KNUCA', 'KNEU', 'UKMA']\n",
            "['KNUTE', 'KPI', 'KNU', 'NAU', 'KNUCA', 'KNEU', 'UKMA']\n",
            "['KNUTE', 'KPI', 'KNU', 'NAU', 'KNUCA', 'KNEU']\n",
            "['KPI', 'KNU', 'NAU', 'KNUCA', 'KNEU']\n",
            "1\n",
            "4\n"
          ]
        }
      ],
      "source": [
        "#додавання елементу в список (останнім)\n",
        "universities.append('KNUCA')\n",
        "print(universities)\n",
        "\n",
        "#додавання декількох елементів в список (останніми)\n",
        "universities.extend(['KNEU', 'UKMA'])\n",
        "print(universities)\n",
        "\n",
        "#додавання елементу в список в певне місце за індексом (наприклад, першим - з індексом 0)\n",
        "universities.insert(0, 'KNUTE')\n",
        "print(universities)\n",
        "\n",
        "#видалення елементу за першим входженням\n",
        "universities.remove('UKMA')\n",
        "print(universities)\n",
        "\n",
        "#видалення елементу за індексом\n",
        "universities.pop(0)\n",
        "print(universities)\n",
        "\n",
        "#кількість входжень елемнту в список\n",
        "print(universities.count('KNEU'))\n",
        "\n",
        "#повертає індекс першого входження\n",
        "print(universities.index('KNEU')) # returns index of first instance"
      ]
    },
    {
      "cell_type": "markdown",
      "metadata": {
        "id": "fpvSDuegg2oX"
      },
      "source": [
        "### Кортежі (Tuples)\n",
        "\n",
        "__Кортежі__ - впорядковані незміні списки, в яких можливі повтори елементів."
      ]
    },
    {
      "cell_type": "code",
      "execution_count": 114,
      "metadata": {
        "id": "HtiM5Ml0gkbo"
      },
      "outputs": [
        {
          "name": "stdout",
          "output_type": "stream",
          "text": [
            "('KPI', 'KNU', 'KNEU') <class 'tuple'>\n"
          ]
        }
      ],
      "source": [
        "# tuples\n",
        "my_tuple = (\"KPI\", \"KNU\", \"KNEU\")\n",
        "print(my_tuple, type(my_tuple))"
      ]
    },
    {
      "cell_type": "markdown",
      "metadata": {
        "id": "ieO5dh1AkC1I"
      },
      "source": [
        "***Увага!***\n",
        "\n",
        ">Не можна змінювати елементи кортежу"
      ]
    },
    {
      "cell_type": "code",
      "execution_count": 148,
      "metadata": {
        "id": "T1oYjoBGkCZt"
      },
      "outputs": [
        {
          "ename": "TypeError",
          "evalue": "'tuple' object does not support item assignment",
          "output_type": "error",
          "traceback": [
            "\u001b[0;31m---------------------------------------------------------------------------\u001b[0m",
            "\u001b[0;31mTypeError\u001b[0m                                 Traceback (most recent call last)",
            "Cell \u001b[0;32mIn[148], line 1\u001b[0m\n\u001b[0;32m----> 1\u001b[0m \u001b[43mmy_tuple\u001b[49m\u001b[43m[\u001b[49m\u001b[38;5;241;43m0\u001b[39;49m\u001b[43m]\u001b[49m \u001b[38;5;241m=\u001b[39m \u001b[38;5;124m\"\u001b[39m\u001b[38;5;124mKNTU\u001b[39m\u001b[38;5;124m\"\u001b[39m\n",
            "\u001b[0;31mTypeError\u001b[0m: 'tuple' object does not support item assignment"
          ]
        }
      ],
      "source": [
        "my_tuple[0] = \"KNTU\""
      ]
    },
    {
      "cell_type": "markdown",
      "metadata": {
        "id": "qpbYv-oKhAjB"
      },
      "source": [
        "### Множини (Sets)\n",
        "\n",
        "__Множина__ - це набір невпорядкованих елементів, в якому не допускається повторювань.\n"
      ]
    },
    {
      "cell_type": "code",
      "execution_count": 116,
      "metadata": {
        "id": "3BRP20wKg4eC"
      },
      "outputs": [
        {
          "name": "stdout",
          "output_type": "stream",
          "text": [
            "{'KNU', 'KNEU', 'KPI'} <class 'set'>\n",
            "True\n"
          ]
        }
      ],
      "source": [
        "# створюємо множину (set)\n",
        "my_set = {\"KPI\", \"KNU\", \"KNEU\"}\n",
        "print(my_set, type(my_set))\n",
        "\n",
        "#перевіряємо чи входить елемент в список\n",
        "print('KPI' in my_set)"
      ]
    },
    {
      "cell_type": "code",
      "execution_count": 117,
      "metadata": {
        "id": "2kVHwExZhFJT"
      },
      "outputs": [
        {
          "data": {
            "text/plain": [
              "{'KNEU', 'KNTU', 'KNU', 'KPI'}"
            ]
          },
          "execution_count": 117,
          "metadata": {},
          "output_type": "execute_result"
        }
      ],
      "source": [
        "#додаємо елемент в список\n",
        "my_set.add(\"KNTU\")\n",
        "my_set"
      ]
    },
    {
      "cell_type": "markdown",
      "metadata": {
        "id": "56e4z2Q3q3R5"
      },
      "source": [
        "###Створюємо множину\n",
        "<img src=\"https://s3-api.us-geo.objectstorage.softlayer.net/cf-courses-data/CognitiveClass/PY0101EN/Chapter%202/Images/SetsUnique.png\" width=\"500\" />\n",
        "\n",
        "> якщо є дублікати елементів при створенні множини, в множину елемент буде входити лише один раз"
      ]
    },
    {
      "cell_type": "code",
      "execution_count": 118,
      "metadata": {
        "id": "Ixun1OREhJNM"
      },
      "outputs": [],
      "source": [
        "# створюємо списки\n",
        "languages = {'python', 'r', 'java'}"
      ]
    },
    {
      "cell_type": "markdown",
      "metadata": {
        "id": "TwJ_fUpMr3as"
      },
      "source": [
        "> створюємо множину за допомогою команди `set` зі списку\n"
      ]
    },
    {
      "cell_type": "code",
      "execution_count": 119,
      "metadata": {
        "id": "Q-guosZhr4JR"
      },
      "outputs": [],
      "source": [
        "snakes = set(['cobra', 'viper', 'python', 'python'])"
      ]
    },
    {
      "cell_type": "code",
      "execution_count": 120,
      "metadata": {
        "id": "K8JNJQgShNNh"
      },
      "outputs": [
        {
          "data": {
            "text/plain": [
              "{'cobra', 'python', 'viper'}"
            ]
          },
          "execution_count": 120,
          "metadata": {},
          "output_type": "execute_result"
        }
      ],
      "source": [
        "snakes"
      ]
    },
    {
      "cell_type": "markdown",
      "metadata": {
        "id": "oImx_nBrgCQu"
      },
      "source": [
        "### Операції з множинами\n",
        "\n",
        "\n",
        "*   `len(set)` - кількість елементів в множині (розмірність множини).\n",
        "\n",
        "* `element in set` - True, якщо `element` належить множині `set`.\n",
        "* `set1.isdisjoint(set2)` - True, якщо `set1` та `set2` не мають спільних елементів\n",
        "* `set1 == set2` - рівність множин `set1` та `set2`.\n",
        "* `set1.issubset(set2)` або `set1 <= set2` - всі елементи `set1` належать `set2`.\n",
        "* `set1.issuperset(set2)` або `set1 >= set2` - аналогічно.\n",
        "* `set1.union(set2, ...)` або `set1 | set2 | ...` - об'єднання множин.\n",
        "* `set1.intersection(set2, ...)` або `set1 & set2 & ...` - перетин множин.\n",
        "* `set1.difference(ser2, ...)` або `set1 - set2 - ...` - множина зі всих елементів `set1`, які не належать жодному з `set_і ...`.\n",
        "* `set1.symmetric_difference(set2)`; `set1 ^ set2 `- множина з елементів, які зустрічаються в одній множині, проте не містяться в обох одночасно.\n",
        "* `set.copy()` - копія множини `set`."
      ]
    },
    {
      "cell_type": "markdown",
      "metadata": {
        "id": "V1vzBIwPvzre"
      },
      "source": [
        "### <i> Наприклад </i>"
      ]
    },
    {
      "cell_type": "code",
      "execution_count": 121,
      "metadata": {
        "id": "_ON-1j-Avqaj"
      },
      "outputs": [
        {
          "data": {
            "text/plain": [
              "3"
            ]
          },
          "execution_count": 121,
          "metadata": {},
          "output_type": "execute_result"
        }
      ],
      "source": [
        "len(languages)"
      ]
    },
    {
      "cell_type": "code",
      "execution_count": 122,
      "metadata": {
        "id": "JGeh534fv_0k"
      },
      "outputs": [
        {
          "data": {
            "text/plain": [
              "False"
            ]
          },
          "execution_count": 122,
          "metadata": {},
          "output_type": "execute_result"
        }
      ],
      "source": [
        "languages.isdisjoint(snakes)"
      ]
    },
    {
      "cell_type": "code",
      "execution_count": 123,
      "metadata": {
        "id": "efM_qPiIwVNP"
      },
      "outputs": [
        {
          "name": "stdout",
          "output_type": "stream",
          "text": [
            "{'python', 'cobra', 'r', 'viper', 'java'}\n"
          ]
        }
      ],
      "source": [
        "SET = languages.union(snakes)\n",
        "print(SET)"
      ]
    },
    {
      "cell_type": "code",
      "execution_count": 124,
      "metadata": {
        "id": "iUKHHHPmwhXM"
      },
      "outputs": [
        {
          "name": "stdout",
          "output_type": "stream",
          "text": [
            "{'python'}\n"
          ]
        }
      ],
      "source": [
        "SET = languages.intersection(snakes)\n",
        "print(SET)"
      ]
    },
    {
      "cell_type": "code",
      "execution_count": 125,
      "metadata": {
        "id": "ToxsTTqdws6B"
      },
      "outputs": [
        {
          "name": "stdout",
          "output_type": "stream",
          "text": [
            "{'r', 'java'}\n",
            "{'cobra', 'viper'}\n"
          ]
        }
      ],
      "source": [
        "SET1 = languages.difference(snakes)\n",
        "print(SET1)\n",
        "\n",
        "SET2 = snakes - languages\n",
        "print(SET2)"
      ]
    },
    {
      "cell_type": "code",
      "execution_count": 126,
      "metadata": {
        "id": "kwsfm6c1xQ7I"
      },
      "outputs": [
        {
          "name": "stdout",
          "output_type": "stream",
          "text": [
            "{'r', 'java', 'cobra', 'viper'}\n"
          ]
        }
      ],
      "source": [
        "SET = languages ^ snakes\n",
        "print(SET)"
      ]
    },
    {
      "cell_type": "markdown",
      "metadata": {
        "id": "IwRISPPS17_-"
      },
      "source": [
        "### Словники (Dictionaries)\n",
        "\n",
        "__Словники__ - це невпорядковані набори довільних об'єктів різного типу, доступ до яких відбувається не за індексом, а за унікальним ключем, який також може бути різного типу даних.\n",
        "\n",
        "> створювати словники можна різними способами, але обов'язкова прив'язка до ключа `key:value`\n",
        "\n",
        "<img src=\"https://cf-courses-data.s3.us.cloud-object-storage.appdomain.cloud/IBMDeveloperSkillsNetwork-PY0101EN-SkillsNetwork/labs/Module%202/images/DictsList.png\" width=\"500\" />"
      ]
    },
    {
      "cell_type": "code",
      "execution_count": 127,
      "metadata": {
        "id": "JvTEFyIHK9Fu"
      },
      "outputs": [
        {
          "name": "stdout",
          "output_type": "stream",
          "text": [
            "{'name': 'Kira', 'university': 'KPI', 'age': 19} <class 'dict'>\n",
            "Kira\n",
            "{'name': 'Max', 'university': 'KNU', 'age': '21'}\n"
          ]
        }
      ],
      "source": [
        "# створення словника (dictionaries)\n",
        "my_dict = {\n",
        "    'name': 'Kira',\n",
        "    'university': 'KPI',\n",
        "    'age': 19\n",
        "}\n",
        "print(my_dict, type(my_dict))\n",
        "print(my_dict['name'])\n",
        "\n",
        "my_dict2=dict(name = 'Max', university = 'KNU', age = '21')\n",
        "print(my_dict2)"
      ]
    },
    {
      "cell_type": "markdown",
      "metadata": {
        "id": "ql53JvxG0jYe"
      },
      "source": [
        "###Функції словника\n",
        "* `dict.clear()` - очищає словник.\n",
        "\n",
        "* `dict.copy()` - повертає копію словника.\n",
        "\n",
        "* `classmethod dict.fromkeys(seq[, value])` - створює  словник з ключами з `seq` та значеннями `value` (по замовчуванню `None`).\n",
        "\n",
        "* `dict.get(key[, default])` - повертає значення ключа, якщо відсутній, то повертає `default` (по замовчуванню `None`).\n",
        "\n",
        "* `dict.items()` - повертає пари (ключ, значення).\n",
        "\n",
        "* `dict.keys()` - повертає ключі в словнику.\n",
        "\n",
        "* `dict.pop(key[, default])` - видаляє ключ і повертає значення. Якщо ключа немає, повертає `default`.\n",
        "\n",
        "* `dict.popitem()` - видаляє та повертає пару (ключ, значення). Якщо словник пустий, виводить `KeyError`.\n",
        "\n",
        "* `dict.update([other])` - оновлює словник, додає пари (ключ, значення) з `other`. Існуючі ключі перезаписуються. Повертає `None` (не новий словник!)\n",
        "\n",
        "* `dict.values()` - повертає значення словника."
      ]
    },
    {
      "cell_type": "code",
      "execution_count": 149,
      "metadata": {
        "id": "TILcyXXQLiy7"
      },
      "outputs": [
        {
          "ename": "KeyError",
          "evalue": "'last_name'",
          "output_type": "error",
          "traceback": [
            "\u001b[0;31m---------------------------------------------------------------------------\u001b[0m",
            "\u001b[0;31mKeyError\u001b[0m                                  Traceback (most recent call last)",
            "Cell \u001b[0;32mIn[149], line 1\u001b[0m\n\u001b[0;32m----> 1\u001b[0m \u001b[38;5;28mprint\u001b[39m(\u001b[43mmy_dict\u001b[49m\u001b[43m[\u001b[49m\u001b[38;5;124;43m'\u001b[39;49m\u001b[38;5;124;43mlast_name\u001b[39;49m\u001b[38;5;124;43m'\u001b[39;49m\u001b[43m]\u001b[49m) \u001b[38;5;66;03m#намагаємось знайти рядок з прізвищем,\u001b[39;00m\n",
            "\u001b[0;31mKeyError\u001b[0m: 'last_name'"
          ]
        }
      ],
      "source": [
        "print(my_dict['last_name']) #намагаємось знайти рядок з прізвищем,"
      ]
    },
    {
      "cell_type": "code",
      "execution_count": 129,
      "metadata": {
        "id": "x5Ijpq5NLqQ2"
      },
      "outputs": [
        {
          "name": "stdout",
          "output_type": "stream",
          "text": [
            "{'name': 'Kira', 'university': 'KPI', 'last_name': 'Ivanenko'}\n"
          ]
        }
      ],
      "source": [
        "my_dict['last_name'] = 'Ivanenko' #додаємо новий рядок в словник\n",
        "del my_dict['age'] #видаляємо вік зі словника\n",
        "print(my_dict)"
      ]
    },
    {
      "cell_type": "code",
      "execution_count": 130,
      "metadata": {
        "id": "8gjICeDTIivL"
      },
      "outputs": [
        {
          "data": {
            "text/plain": [
              "{'name': 'Kira', 'university': 'KPI'}"
            ]
          },
          "execution_count": 130,
          "metadata": {},
          "output_type": "execute_result"
        }
      ],
      "source": [
        "my_dict.pop('last_name')\n",
        "my_dict"
      ]
    },
    {
      "cell_type": "code",
      "execution_count": 131,
      "metadata": {
        "id": "leqaUaMBIpgs"
      },
      "outputs": [
        {
          "data": {
            "text/plain": [
              "{'name': 'Kira', 'university': 'KPI', 'last_name': 'Ivanenko', 'age': 19}"
            ]
          },
          "execution_count": 131,
          "metadata": {},
          "output_type": "execute_result"
        }
      ],
      "source": [
        "my_dict.update({'last_name': 'Ivanenko', 'age': 19})\n",
        "my_dict"
      ]
    },
    {
      "cell_type": "code",
      "execution_count": 132,
      "metadata": {
        "id": "7nF_4jzrL2xg"
      },
      "outputs": [
        {
          "data": {
            "text/plain": [
              "dict_items([('name', 'Kira'), ('university', 'KPI'), ('last_name', 'Ivanenko'), ('age', 19)])"
            ]
          },
          "execution_count": 132,
          "metadata": {},
          "output_type": "execute_result"
        }
      ],
      "source": [
        "my_dict.items()"
      ]
    },
    {
      "cell_type": "code",
      "execution_count": 133,
      "metadata": {
        "id": "p7kYn2zvI0IQ"
      },
      "outputs": [
        {
          "data": {
            "text/plain": [
              "dict_keys(['name', 'university', 'last_name', 'age'])"
            ]
          },
          "execution_count": 133,
          "metadata": {},
          "output_type": "execute_result"
        }
      ],
      "source": [
        "my_dict.keys()"
      ]
    },
    {
      "cell_type": "code",
      "execution_count": 134,
      "metadata": {
        "id": "3v3nfb5vUyII"
      },
      "outputs": [
        {
          "data": {
            "text/plain": [
              "dict_values(['Kira', 'KPI', 'Ivanenko', 19])"
            ]
          },
          "execution_count": 134,
          "metadata": {},
          "output_type": "execute_result"
        }
      ],
      "source": [
        "my_dict.values()"
      ]
    },
    {
      "cell_type": "markdown",
      "metadata": {
        "id": "z0vqDFdl7mZx"
      },
      "source": [
        "##<center>__Самостійні завдання__</center>\n",
        "\n",
        "> Скопіювати блок самостійних завдань в окремий файл ***LastName_CP1.ipynb***"
      ]
    },
    {
      "cell_type": "markdown",
      "metadata": {
        "id": "OflG6K-YVWbw"
      },
      "source": [
        "### Завдання №1\n",
        "\n",
        "1. Створити цілочисельну змінну `x`. Вмвести на екоран змінну та її тип\n",
        "2. Змінити тип даних змінної `x` на дійсний. Перевірити\n",
        "3. Створити нову числову змінну `y`.\n",
        "4. Піднести змінну `x` до степеня `y` і зберегти результат як змінну `z`. (двома способами)\n",
        "5. Вивести значення змінної `z` та її тип."
      ]
    },
    {
      "cell_type": "code",
      "execution_count": 135,
      "metadata": {
        "id": "2vu87JoBTOfH"
      },
      "outputs": [
        {
          "name": "stdout",
          "output_type": "stream",
          "text": [
            "5 <class 'int'>\n",
            "5.0 <class 'float'>\n",
            "125.0 <class 'float'>\n",
            "125.0 <class 'float'>\n"
          ]
        }
      ],
      "source": [
        "# МІСЦЕ ДЛЯ КОДУ\n",
        "x = 5\n",
        "print(x, type(x))\n",
        "\n",
        "x = float(x)\n",
        "print(x, type(x))\n",
        "\n",
        "y = 3\n",
        "\n",
        "z = x ** y\n",
        "print(z, type(z))\n",
        "\n",
        "z = pow(x, y)\n",
        "print(z, type(z))"
      ]
    },
    {
      "cell_type": "markdown",
      "metadata": {
        "id": "LirTJrM7W-cg"
      },
      "source": [
        "### Завдання №2\n",
        "\n",
        "1. Вивести запис: **\"{X} в степені {Y} дорівнює {Z}.\"**, використовуючи рядковий запис де X, Y та Z значення змінних.\n",
        "2. Перетворіть рядок так, щоб можна було прочитати лише **\"X в степені\"**, с заду наперед.\n",
        "\n",
        "> Очікуваний результат:\n",
        "```python\n",
        "x = 2\n",
        "y = 3\n",
        "\"2 в степені 3 дорівнює 8.\"\n",
        "\"інепетс в 2\"\n",
        "```"
      ]
    },
    {
      "cell_type": "code",
      "execution_count": 136,
      "metadata": {
        "id": "8R4pqDIyW96X"
      },
      "outputs": [
        {
          "name": "stdout",
          "output_type": "stream",
          "text": [
            "2 в степені 3 дорівнює 8.\n",
            " 3 інепетс в 2\n"
          ]
        }
      ],
      "source": [
        "# МІСЦЕ ДЛЯ КОДУ\n",
        "x = 2\n",
        "y = 3\n",
        "z = x ** y\n",
        "\n",
        "output = f\"{x} в степені {y} дорівнює {z}.\"\n",
        "print(output)\n",
        "\n",
        "reversed_part = output.split(\"дорівнює\")[0][::-1]\n",
        "print(reversed_part)"
      ]
    },
    {
      "cell_type": "markdown",
      "metadata": {
        "id": "TnzAtVsKZkjc"
      },
      "source": [
        "### Завдання №3\n",
        "\n",
        "1. Створіть новий список `my_list`, який містить 5 кольорів.\n",
        "2. Перевірте чи є в вашому списку колір `\"бузковий\"`. Якщо немає, то додайте його використовуючи команду `append`.\n",
        "3. Змініть перший елемент списку на `\"рожевий\"`.\n",
        "4. Видаліть другий елемент списку та виведіть результат на екран."
      ]
    },
    {
      "cell_type": "code",
      "execution_count": 137,
      "metadata": {
        "id": "royz-qkJZmQ8"
      },
      "outputs": [
        {
          "name": "stdout",
          "output_type": "stream",
          "text": [
            "['рожевий', 'синій', 'жовтий', 'фіолетовий', 'бузковий']\n"
          ]
        }
      ],
      "source": [
        "# МІСЦЕ ДЛЯ КОДУ\n",
        "my_list = [\"червоний\", \"зелений\", \"синій\", \"жовтий\", \"фіолетовий\"]\n",
        "\n",
        "if \"бузковий\" not in my_list:\n",
        "    my_list.append(\"бузковий\")\n",
        "\n",
        "my_list[0] = \"рожевий\"\n",
        "\n",
        "del my_list[1]\n",
        "\n",
        "print(my_list)"
      ]
    },
    {
      "cell_type": "markdown",
      "metadata": {
        "id": "bjIBnKjHceq4"
      },
      "source": [
        "### Завдання №4\n",
        "\n",
        "1. Створіть словник з країнами та їх столицями (країна - ключ, столиця - значення): Німеччина, Франція, Україна, США, Румунія, Італія. Виведіть результат.\n",
        "2. Додайте столицю Бельгії.\n",
        "3. Виведіть лише столиці."
      ]
    },
    {
      "cell_type": "code",
      "execution_count": 138,
      "metadata": {
        "id": "A9WZujmvd3pd"
      },
      "outputs": [
        {
          "name": "stdout",
          "output_type": "stream",
          "text": [
            "{'Німеччина': 'Берлін', 'Франція': 'Париж', 'Україна': 'Київ', 'США': 'Вашингтон', 'Румунія': 'Бухарест', 'Італія': 'Рим'}\n",
            "['Берлін', 'Париж', 'Київ', 'Вашингтон', 'Бухарест', 'Рим', 'Брюссель']\n"
          ]
        }
      ],
      "source": [
        "# МІСЦЕ ДЛЯ КОДУ\n",
        "countries = {\n",
        "    \"Німеччина\": \"Берлін\",\n",
        "    \"Франція\": \"Париж\",\n",
        "    \"Україна\": \"Київ\",\n",
        "    \"США\": \"Вашингтон\",\n",
        "    \"Румунія\": \"Бухарест\",\n",
        "    \"Італія\": \"Рим\"\n",
        "}\n",
        "\n",
        "print(countries)\n",
        "\n",
        "countries[\"Бельгія\"] = \"Брюссель\"\n",
        "\n",
        "capitals = list(countries.values())\n",
        "print(capitals)"
      ]
    },
    {
      "cell_type": "markdown",
      "metadata": {
        "id": "2QuFFg1KTP-t"
      },
      "source": [
        "  ### Завдання №5\n",
        "\n",
        "  Виведіть значення списку_1, що не містяться в списку_2.\n",
        "\n",
        "  > Очікуваний результат:\n",
        "  ```python\n",
        "  [1,4,6,7]\n",
        "  ```"
      ]
    },
    {
      "cell_type": "code",
      "execution_count": 139,
      "metadata": {
        "id": "spnHiR02TdSL"
      },
      "outputs": [
        {
          "name": "stdout",
          "output_type": "stream",
          "text": [
            "[1, 4, 6, 7]\n"
          ]
        }
      ],
      "source": [
        "list_1 = [1, 2, 3, 4, 5, 6, 7]\n",
        "list_2 = [2, 3, 5]\n",
        "\n",
        "result = [item for item in list_1 if item not in list_2]\n",
        "print(result)"
      ]
    },
    {
      "cell_type": "markdown",
      "metadata": {
        "id": "5uXdDpjET7eA"
      },
      "source": [
        "### Завдання №6\n",
        "\n",
        "порахуйте всі входження слова \"Наука\" в рядок, без урахування регістру\n",
        "\n",
        "> Очікуваний результат:\n",
        "```python\n",
        "3\n",
        "```"
      ]
    },
    {
      "cell_type": "code",
      "execution_count": 140,
      "metadata": {
        "id": "-yLtDPyVTdrG"
      },
      "outputs": [
        {
          "name": "stdout",
          "output_type": "stream",
          "text": [
            "3\n"
          ]
        }
      ],
      "source": [
        "string = \"Наука про дані – це наука про методи аналізу даних і вилучення\\\n",
        " з них цінної інформації та знань. Вона тісно пов’язана з такими галузями, \\\n",
        " як машинне навчання, наука про мислення, а також з технологіями для роботи \\\n",
        " з великими даними.\"\n",
        "\n",
        "# МІСЦЕ ДЛЯ КОДУ\n",
        "count = string.lower().count(\"наука\")\n",
        "print(count)"
      ]
    },
    {
      "cell_type": "markdown",
      "metadata": {
        "id": "lORkhbauVchI"
      },
      "source": [
        "### Завдання №7\n",
        "\n",
        "Видаліть повтори зі списку та створіть кортеж. Знайдіть мінімальне та максимальне значення."
      ]
    },
    {
      "cell_type": "code",
      "execution_count": 141,
      "metadata": {
        "id": "57Gp1maMWDWh"
      },
      "outputs": [
        {
          "name": "stdout",
          "output_type": "stream",
          "text": [
            "(1, 3, 4, 5, 100, 10, 30)\n",
            "1\n",
            "100\n"
          ]
        }
      ],
      "source": [
        "my_list = [1, 4, 5, 10, 1, 3, 30, 100, 5]\n",
        "\n",
        "# МІСЦЕ ДЛЯ КОДУ\n",
        "unique_tuple = tuple(set(my_list))\n",
        "\n",
        "min_value = min(unique_tuple)\n",
        "max_value = max(unique_tuple)\n",
        "\n",
        "print(unique_tuple)\n",
        "print(min_value)\n",
        "print(max_value)"
      ]
    },
    {
      "cell_type": "markdown",
      "metadata": {
        "id": "alRgo8HIWg14"
      },
      "source": [
        "### Завдання №8\n",
        "\n",
        "Дано дві множини  \n",
        "1. перевірити чи є перша множина підмножиною другої\n",
        "2. знайти об'єднання, перетин, різницю та симетричну різницю цих множин\n",
        "3. виведіть результати на екран\n"
      ]
    },
    {
      "cell_type": "code",
      "execution_count": 142,
      "metadata": {
        "id": "RxfbsbqsW8Up"
      },
      "outputs": [
        {
          "name": "stdout",
          "output_type": "stream",
          "text": [
            "True\n",
            "{67, 73, 43, 48, 83, 57, 29}\n",
            "{57, 83, 29}\n",
            "set()\n",
            "{48, 67, 73, 43}\n"
          ]
        }
      ],
      "source": [
        "set_1 = {57, 83, 29}\n",
        "set_2 = {67, 73, 43, 48, 83, 57, 29}\n",
        "\n",
        "# МІСЦЕ ДЛЯ КОДУ\n",
        "\n",
        "is_subset = set_1.issubset(set_2)\n",
        "union_set = set_1.union(set_2)\n",
        "intersection_set = set_1.intersection(set_2)\n",
        "difference_set = set_1.difference(set_2)\n",
        "symmetric_difference_set = set_1.symmetric_difference(set_2)\n",
        "\n",
        "print(is_subset)\n",
        "print(union_set)\n",
        "print(intersection_set)\n",
        "print(difference_set)\n",
        "print(symmetric_difference_set)"
      ]
    },
    {
      "cell_type": "markdown",
      "metadata": {
        "id": "5HlthU73XbMO"
      },
      "source": [
        "### Завдання №9\n",
        "\n",
        "Дано рядок `string`, порахувати кількість входжень літер \"а\", \"д\" та \"н\" та створити словник з цих літер та кількістю їх входжень. Вивести пари ключ-значення на екран\n",
        "\n",
        "> Очікуваний результат:\n",
        "```python\n",
        "dict_items([('а', 24), ('д', 5), ('н', 25)])\n",
        "```"
      ]
    },
    {
      "cell_type": "code",
      "execution_count": 143,
      "metadata": {
        "id": "fbzuRDZujnhF"
      },
      "outputs": [
        {
          "name": "stdout",
          "output_type": "stream",
          "text": [
            "dict_items([('а', 24), ('д', 5), ('н', 25)])\n"
          ]
        }
      ],
      "source": [
        "string = \"Наука про дані – це наука про методи аналізу даних і вилучення\\\n",
        " з них цінної інформації та знань. Вона тісно пов’язана з такими галузями, \\\n",
        " як машинне навчання, наука про мислення, а також з технологіями для роботи \\\n",
        " з великими даними.\"\n",
        "\n",
        "# МІСЦЕ ДЛЯ КОДУ\n",
        "letters_to_count = ['а', 'д', 'н']\n",
        "\n",
        "letter_counts = {letter: string.count(letter) for letter in letters_to_count}\n",
        "\n",
        "print(letter_counts.items())"
      ]
    },
    {
      "cell_type": "markdown",
      "metadata": {
        "id": "frXoXi52twFQ"
      },
      "source": [
        "### Завдання №10\n",
        "\n",
        "  Знайти суму всих елеменів словника\n",
        "\n",
        "  > використайте функцію `map()`, яка використовується для застосування функції до кожного елементу ітеруючого об'єкту (наприклад, списку чи словника) та повернення нового ітератора для отримання результів.\n",
        "\n",
        "  > Функція `map()` має наступний синтаксис:\n",
        "  ```python\n",
        "  map(function, iterable, [iterable 2, iterable 3, ...])\n",
        "  ```\n",
        "  > Очікуваний результат\n",
        "  ```python\n",
        "  390\n",
        "  ```"
      ]
    },
    {
      "cell_type": "code",
      "execution_count": 144,
      "metadata": {
        "id": "JH7g50AbfVp-"
      },
      "outputs": [
        {
          "name": "stdout",
          "output_type": "stream",
          "text": [
            "390\n"
          ]
        }
      ],
      "source": [
        "my_dict = {'a': [10, 20, 30, 40],\n",
        "           'b': [22, 11, 33, 44],\n",
        "           'c': [12, 34, 56, 78]}\n",
        "\n",
        "# МІСЦЕ ДЛЯ КОДУ\n",
        "total_sum = sum(map(sum, my_dict.values()))\n",
        "\n",
        "print(total_sum)"
      ]
    },
    {
      "cell_type": "markdown",
      "metadata": {
        "id": "pvVHWUF4gSm8"
      },
      "source": [
        "### Завдання №11\n",
        "\n",
        "Знайдіть друге найменше та друге найбільше значення в списку та виведіть на екран такий запис:\n",
        "\n",
        "```python\n",
        "\"Друге найменше значення - 1 та друге найбільше значення - 398.\"\n",
        "```"
      ]
    },
    {
      "cell_type": "code",
      "execution_count": 145,
      "metadata": {
        "id": "HFL0NALUf2RG"
      },
      "outputs": [
        {
          "name": "stdout",
          "output_type": "stream",
          "text": [
            "Друге найменше значення - 1 та друге найбільше значення - 398.\n"
          ]
        }
      ],
      "source": [
        "my_list = [1,200, 34, 65, 499, 11, -4, 42, 398, 12, 3, 100]\n",
        "\n",
        "# МІСЦЕ ДЛЯ КОДУ\n",
        "\n",
        "sorted_list = sorted(set(my_list))\n",
        "\n",
        "second_smallest = sorted_list[1]\n",
        "second_largest = sorted_list[-2]\n",
        "\n",
        "result = f\"Друге найменше значення - {second_smallest} та друге найбільше значення - {second_largest}.\"\n",
        "print(result)"
      ]
    },
    {
      "cell_type": "markdown",
      "metadata": {
        "id": "yK8b3Mf0guPD"
      },
      "source": [
        "### Завдання №12\n",
        "\n",
        "Об'єднайте наступні словники в один.\n",
        "\n",
        "> Очікуваний результат:\n",
        "```python\n",
        "{1: 10, 2: 20, 3: 30, 4: 40, 5: 50, 6: 60}\n",
        "```"
      ]
    },
    {
      "cell_type": "code",
      "execution_count": 146,
      "metadata": {
        "id": "NCTujRJdg6n_"
      },
      "outputs": [
        {
          "name": "stdout",
          "output_type": "stream",
          "text": [
            "{1: 10, 2: 20, 3: 30, 4: 40, 5: 50, 6: 60}\n"
          ]
        }
      ],
      "source": [
        "dic1 = {1:10, 2:20}\n",
        "dic2 = {3:30, 4:40}\n",
        "dic3 = {5:50, 6:60}\n",
        "\n",
        "# МІСЦЕ ДЛЯ КОДУ\n",
        "\n",
        "merged_dict = {**dic1, **dic2, **dic3}\n",
        "\n",
        "print(merged_dict)"
      ]
    },
    {
      "cell_type": "markdown",
      "metadata": {
        "id": "32h8Qu3ShOVM"
      },
      "source": [
        "### Завдання №13\n",
        "Створіть словник з наступних списків. Використайте функцію`zip()`\n",
        "\n",
        ">Функція `zip(a, b)` створює об'єкт-ітератор, з якого при кожному обороті циклу створюється кортеж - впорядкована пара $(a_i, b_i)$\n",
        "\n",
        ">Очікуваний результат:\n",
        "```python\n",
        "{'червоний': '#FF0000', 'зелений': '#008000', 'синій': '#0000FF'}\n",
        "```"
      ]
    },
    {
      "cell_type": "code",
      "execution_count": 147,
      "metadata": {
        "id": "ZBbgGomchYa3"
      },
      "outputs": [
        {
          "name": "stdout",
          "output_type": "stream",
          "text": [
            "{'червоний': '#FF0000', 'зелений': '#008000', 'синій': '#0000FF'}\n"
          ]
        }
      ],
      "source": [
        "keys = ['червоний', 'зелений', 'синій']\n",
        "values = ['#FF0000','#008000', '#0000FF']\n",
        "\n",
        "# МІСЦЕ ДЛЯ КОДУ\n",
        "color_dict = dict(zip(keys, values))\n",
        "\n",
        "print(color_dict)"
      ]
    }
  ],
  "metadata": {
    "colab": {
      "provenance": []
    },
    "kernelspec": {
      "display_name": "Python 3",
      "name": "python3"
    },
    "language_info": {
      "codemirror_mode": {
        "name": "ipython",
        "version": 3
      },
      "file_extension": ".py",
      "mimetype": "text/x-python",
      "name": "python",
      "nbconvert_exporter": "python",
      "pygments_lexer": "ipython3",
      "version": "3.12.3"
    }
  },
  "nbformat": 4,
  "nbformat_minor": 0
}
